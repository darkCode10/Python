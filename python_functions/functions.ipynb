{
 "cells": [
  {
   "cell_type": "code",
   "execution_count": 2,
   "metadata": {},
   "outputs": [
    {
     "name": "stdout",
     "output_type": "stream",
     "text": [
      "14\n"
     ]
    }
   ],
   "source": [
    "##Function to add two numbers\n",
    "def add(a,b):\n",
    "    return a+b\n",
    "sum=add(10,4)\n",
    "print(sum) "
   ]
  },
  {
   "cell_type": "code",
   "execution_count": 3,
   "metadata": {},
   "outputs": [
    {
     "name": "stdout",
     "output_type": "stream",
     "text": [
      "My name is Ahsaan\n"
     ]
    }
   ],
   "source": [
    "def printName(name):\n",
    "    print(f\"My name is {name}\")\n",
    "printName(\"Ahsaan\")\n"
   ]
  },
  {
   "cell_type": "code",
   "execution_count": 7,
   "metadata": {},
   "outputs": [
    {
     "name": "stdout",
     "output_type": "stream",
     "text": [
      "2\n",
      "5\n",
      "3\n",
      "6\n",
      "8\n",
      "2\n",
      "8\n"
     ]
    }
   ],
   "source": [
    "##Positional Arguments\n",
    "def printNumbers(*args):\n",
    "    for num in args:\n",
    "        print(num)\n",
    "lst=[]\n",
    "printNumbers(2,5,3,6,8,2,8)"
   ]
  },
  {
   "cell_type": "code",
   "execution_count": 15,
   "metadata": {},
   "outputs": [
    {
     "name": "stdout",
     "output_type": "stream",
     "text": [
      "Name:Ahsaan\n",
      "Age:22\n",
      "Grade:A\n"
     ]
    }
   ],
   "source": [
    "##Keyword Arguments\n",
    "def printDetails(**kwargs):\n",
    "    for key,value in kwargs.items():\n",
    "        print(f\"{key}:{value}\")\n",
    "printDetails(Name=\"Ahsaan\",Age=22,Grade=\"A\")"
   ]
  },
  {
   "cell_type": "markdown",
   "metadata": {},
   "source": [
    "Example: Password Strength Checker"
   ]
  },
  {
   "cell_type": "code",
   "execution_count": 18,
   "metadata": {},
   "outputs": [
    {
     "name": "stdout",
     "output_type": "stream",
     "text": [
      "False\n",
      "False\n",
      "False\n",
      "False\n",
      "False\n",
      "True\n"
     ]
    }
   ],
   "source": [
    "def is_strong_password(password):\n",
    "    if len(password)<8: return False\n",
    "    if not any(char.isdigit() for char in password): return False\n",
    "    if not any(char.islower() for char in password): return False\n",
    "    if not any(char.isupper() for char in password): return False\n",
    "    if not any(char in '!@#$%^&*()_+' for char in password): return False\n",
    "    return True\n",
    "print(is_strong_password(\"Ahsan1@\"))\n",
    "print(is_strong_password(\"ahsaan#%@\"))\n",
    "print(is_strong_password(\"AHSAAN1@\"))\n",
    "print(is_strong_password(\"ahsaan120@\"))\n",
    "print(is_strong_password(\"Ahsan12345\"))\n",
    "print(is_strong_password(\"Ahsaan123@\"))"
   ]
  },
  {
   "cell_type": "code",
   "execution_count": null,
   "metadata": {},
   "outputs": [],
   "source": []
  }
 ],
 "metadata": {
  "kernelspec": {
   "display_name": "Python 3",
   "language": "python",
   "name": "python3"
  },
  "language_info": {
   "codemirror_mode": {
    "name": "ipython",
    "version": 3
   },
   "file_extension": ".py",
   "mimetype": "text/x-python",
   "name": "python",
   "nbconvert_exporter": "python",
   "pygments_lexer": "ipython3",
   "version": "3.12.0"
  },
  "orig_nbformat": 4
 },
 "nbformat": 4,
 "nbformat_minor": 2
}
