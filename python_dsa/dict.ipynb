{
 "cells": [
  {
   "cell_type": "code",
   "execution_count": 1,
   "metadata": {},
   "outputs": [
    {
     "name": "stdout",
     "output_type": "stream",
     "text": [
      "{'Name': 'Ahsaan', 'Age': 22, 'Gender': 'Male'}\n"
     ]
    }
   ],
   "source": [
    "## Creating Dictionary\n",
    "student={\"Name\":\"Ahsaan\",\"Age\":22,\"Gender\":\"Male\"}\n",
    "print(student)\n"
   ]
  },
  {
   "cell_type": "code",
   "execution_count": 2,
   "metadata": {},
   "outputs": [
    {
     "name": "stdout",
     "output_type": "stream",
     "text": [
      "Ahsaan\n",
      "22\n",
      "Male\n"
     ]
    }
   ],
   "source": [
    "##Accessing Dictionary Elements\n",
    "print(student[\"Name\"])\n",
    "print(student[\"Age\"])\n",
    "print(student[\"Gender\"])\n",
    "\n"
   ]
  },
  {
   "cell_type": "code",
   "execution_count": 5,
   "metadata": {},
   "outputs": [
    {
     "name": "stdout",
     "output_type": "stream",
     "text": [
      "Male\n",
      "None\n",
      "Not Available\n"
     ]
    }
   ],
   "source": [
    "##Accessing Elements using get() method\n",
    "print(student.get(\"Gender\"))\n",
    "print(student.get(\"Grade\"))\n",
    "print(student.get(\"Grade\",\"Not Available\"))"
   ]
  },
  {
   "cell_type": "code",
   "execution_count": 11,
   "metadata": {},
   "outputs": [
    {
     "name": "stdout",
     "output_type": "stream",
     "text": [
      "{'Name': 'Ahsaan', 'Age': 20, 'Grade': 'A'}\n"
     ]
    }
   ],
   "source": [
    "##Modifying Dictionary Elements\n",
    "student[\"Age\"]=20   ##Update Key value\n",
    "print(student)\n",
    "student[\"Grade\"]=\"A\"    ##Add key and value\n",
    "print(student)\n",
    "del student[\"Gender\"]   ##Delete key and value pair\n"
   ]
  },
  {
   "cell_type": "code",
   "execution_count": 12,
   "metadata": {},
   "outputs": [
    {
     "name": "stdout",
     "output_type": "stream",
     "text": [
      "dict_keys(['Name', 'Age', 'Grade'])\n",
      "dict_values(['Ahsaan', 20, 'A'])\n",
      "dict_items([('Name', 'Ahsaan'), ('Age', 20), ('Grade', 'A')])\n"
     ]
    }
   ],
   "source": [
    "##Dictionary Methods\n",
    "keys=student.keys() ##Return all keys\n",
    "print(keys)\n",
    "values=student.values() ##Return all values\n",
    "print(values)\n",
    "items=student.items()   ##Return all key value pairs\n",
    "print(items)"
   ]
  },
  {
   "cell_type": "code",
   "execution_count": 13,
   "metadata": {},
   "outputs": [
    {
     "name": "stdout",
     "output_type": "stream",
     "text": [
      "{'Name': 'Ahsaan', 'Age': 20, 'Grade': 'A'}\n",
      "{'Name': 'Ahsaan', 'Age': 20, 'Grade': 'A'}\n"
     ]
    }
   ],
   "source": [
    "##Copy and Shallow copy\n",
    "std_copy=student\n",
    "print(student)\n",
    "print(std_copy)"
   ]
  },
  {
   "cell_type": "code",
   "execution_count": 14,
   "metadata": {},
   "outputs": [
    {
     "name": "stdout",
     "output_type": "stream",
     "text": [
      "{'Name': 'Hashir', 'Age': 20, 'Grade': 'A'}\n",
      "{'Name': 'Hashir', 'Age': 20, 'Grade': 'A'}\n"
     ]
    }
   ],
   "source": [
    "##Copy Problem, its also updating the copied version\n",
    "student[\"Name\"]=\"Hashir\"\n",
    "print(student)\n",
    "print(std_copy)"
   ]
  },
  {
   "cell_type": "code",
   "execution_count": 15,
   "metadata": {},
   "outputs": [
    {
     "name": "stdout",
     "output_type": "stream",
     "text": [
      "{'Name': 'Hashir', 'Age': 20, 'Grade': 'A'}\n",
      "{'Name': 'Hashir', 'Age': 20, 'Grade': 'A'}\n"
     ]
    }
   ],
   "source": [
    "std_copy1=student.copy()    ##Shallow copy\n",
    "print(student)\n",
    "print(std_copy1)"
   ]
  },
  {
   "cell_type": "code",
   "execution_count": 16,
   "metadata": {},
   "outputs": [
    {
     "name": "stdout",
     "output_type": "stream",
     "text": [
      "{'Name': 'Mannan', 'Age': 20, 'Grade': 'A'}\n",
      "{'Name': 'Hashir', 'Age': 20, 'Grade': 'A'}\n"
     ]
    }
   ],
   "source": [
    "student[\"Name\"]=\"Mannan\"\n",
    "print(student)\n",
    "print(std_copy1)"
   ]
  },
  {
   "cell_type": "code",
   "execution_count": 17,
   "metadata": {},
   "outputs": [
    {
     "name": "stdout",
     "output_type": "stream",
     "text": [
      "Name\n",
      "Age\n",
      "Grade\n"
     ]
    }
   ],
   "source": [
    "##Iterating over dictionaries\n",
    "##Iterate over keys\n",
    "for key in student.keys():\n",
    "    print(key)"
   ]
  },
  {
   "cell_type": "code",
   "execution_count": 18,
   "metadata": {},
   "outputs": [
    {
     "name": "stdout",
     "output_type": "stream",
     "text": [
      "Mannan\n",
      "20\n",
      "A\n"
     ]
    }
   ],
   "source": [
    "##Iterate over values\n",
    "for value in student.values():\n",
    "    print(value)\n",
    "    "
   ]
  },
  {
   "cell_type": "code",
   "execution_count": 19,
   "metadata": {},
   "outputs": [
    {
     "name": "stdout",
     "output_type": "stream",
     "text": [
      "Name:Mannan\n",
      "Age:20\n",
      "Grade:A\n"
     ]
    }
   ],
   "source": [
    "##Iterate over items\n",
    "for key,value in student.items():\n",
    "    print(f\"{key}:{value}\")"
   ]
  },
  {
   "cell_type": "code",
   "execution_count": 22,
   "metadata": {},
   "outputs": [
    {
     "name": "stdout",
     "output_type": "stream",
     "text": [
      "{'Student1': {'Name': 'Ahsaan', 'Grade': 'A', 'Age': 22}, 'Student2': {'Name': 'Mannan', 'Grade': 'A+', 'Age': 21}}\n"
     ]
    }
   ],
   "source": [
    "##Nested Dictionaries\n",
    "students={\"Student1\":{\"Name\":\"Ahsaan\",\"Grade\":\"A\",\"Age\":22},\"Student2\":\n",
    "          {\"Name\":\"Mannan\",\"Grade\":\"A+\",\"Age\":21}}\n",
    "print(students)"
   ]
  },
  {
   "cell_type": "code",
   "execution_count": 24,
   "metadata": {},
   "outputs": [
    {
     "name": "stdout",
     "output_type": "stream",
     "text": [
      "22\n",
      "Mannan\n"
     ]
    }
   ],
   "source": [
    "print(students[\"Student1\"][\"Age\"])\n",
    "print(students[\"Student2\"][\"Name\"])"
   ]
  },
  {
   "cell_type": "code",
   "execution_count": 30,
   "metadata": {},
   "outputs": [
    {
     "name": "stdout",
     "output_type": "stream",
     "text": [
      "Student1:{'Name': 'Ahsaan', 'Grade': 'A', 'Age': 22}\n",
      "Name:Ahsaan\n",
      "Grade:A\n",
      "Age:22\n",
      "Student2:{'Name': 'Mannan', 'Grade': 'A+', 'Age': 21}\n",
      "Name:Mannan\n",
      "Grade:A+\n",
      "Age:21\n"
     ]
    }
   ],
   "source": [
    "##Iterating over nested dictionaries\n",
    "for student_id,student_info in students.items():\n",
    "    print(f\"{student_id}:{student_info}\")\n",
    "    for key,value in student_info.items():\n",
    "        print(f\"{key}:{value}\")"
   ]
  },
  {
   "cell_type": "code",
   "execution_count": 31,
   "metadata": {},
   "outputs": [
    {
     "name": "stdout",
     "output_type": "stream",
     "text": [
      "{0: 0, 1: 1, 2: 4, 3: 9, 4: 16}\n"
     ]
    }
   ],
   "source": [
    "##Dictionary Comprehension\n",
    "squares={x:x**2 for x in range(5)}\n",
    "print(squares)"
   ]
  },
  {
   "cell_type": "code",
   "execution_count": 32,
   "metadata": {},
   "outputs": [
    {
     "name": "stdout",
     "output_type": "stream",
     "text": [
      "{0: 0, 2: 4, 4: 16, 6: 36, 8: 64}\n"
     ]
    }
   ],
   "source": [
    "##Conditional dictionary comprehension\n",
    "even={x:x**2 for x in range(10) if x%2==0}\n",
    "print(even)"
   ]
  },
  {
   "cell_type": "code",
   "execution_count": 34,
   "metadata": {},
   "outputs": [
    {
     "name": "stdout",
     "output_type": "stream",
     "text": [
      "{1: 1, 2: 2, 3: 5, 4: 5}\n"
     ]
    }
   ],
   "source": [
    "##Example\n",
    "numbers=[1,2,2,3,3,3,3,3,4,4,4,4,4]\n",
    "frequency={}\n",
    "for number in numbers:\n",
    "    if number in frequency: frequency[number]+=1\n",
    "    else: frequency[number]=1\n",
    "print(frequency)"
   ]
  },
  {
   "cell_type": "code",
   "execution_count": 37,
   "metadata": {},
   "outputs": [
    {
     "name": "stdout",
     "output_type": "stream",
     "text": [
      "{'a': 1, 'b': 3, 'c': 4}\n"
     ]
    }
   ],
   "source": [
    "##Merge 2 dictionaries into 1\n",
    "dict1={\"a\":1,\"b\":2}\n",
    "dict2={\"b\":3,\"c\":4}\n",
    "mergeDict={**dict1,**dict2}\n",
    "print(mergeDict)"
   ]
  },
  {
   "cell_type": "code",
   "execution_count": null,
   "metadata": {},
   "outputs": [],
   "source": []
  }
 ],
 "metadata": {
  "kernelspec": {
   "display_name": "Python 3",
   "language": "python",
   "name": "python3"
  },
  "language_info": {
   "codemirror_mode": {
    "name": "ipython",
    "version": 3
   },
   "file_extension": ".py",
   "mimetype": "text/x-python",
   "name": "python",
   "nbconvert_exporter": "python",
   "pygments_lexer": "ipython3",
   "version": "3.12.0"
  },
  "orig_nbformat": 4
 },
 "nbformat": 4,
 "nbformat_minor": 2
}
