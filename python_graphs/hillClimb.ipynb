{
 "cells": [
  {
   "cell_type": "markdown",
   "metadata": {},
   "source": [
    "Simple Hill Climbing Search"
   ]
  },
  {
   "cell_type": "code",
   "execution_count": 13,
   "metadata": {},
   "outputs": [
    {
     "name": "stdout",
     "output_type": "stream",
     "text": [
      "Traversal: \n",
      "A\n",
      "['B', 'C']\n",
      "B\n",
      "['A', 'C', 'D']\n",
      "D\n",
      "['B', 'E', 'F']\n",
      "F\n",
      "Goal Node Found:  F\n"
     ]
    }
   ],
   "source": [
    "graph = {\n",
    "    'A': ['B', 'C'],\n",
    "    'B': ['A', 'C', 'D'],\n",
    "    'C': ['A', 'B', 'E'],\n",
    "    'D': ['B', 'E', 'F'],\n",
    "    'E': ['C', 'D', 'F'],\n",
    "    'F': ['D', 'E'],\n",
    "}\n",
    "\n",
    "heuristic = {\n",
    "    'A': 25,\n",
    "    'B': 8,\n",
    "    'C': 20,\n",
    "    'D': 6,\n",
    "    'E': 12,\n",
    "    'F': 0,\n",
    "}\n",
    "\n",
    "def HCS_Simple(start,goal):\n",
    "    current=start\n",
    "    print(\"Traversal: \")\n",
    "    while True:\n",
    "        print(current)\n",
    "        if current==goal:\n",
    "            print(\"Goal Node Found: \",goal)\n",
    "            break\n",
    "        minHeurNode = current\n",
    "        for neighbor in graph[current]:\n",
    "            if heuristic[minHeurNode] > heuristic[neighbor]:\n",
    "                minHeurNode = neighbor\n",
    "\n",
    "        # If no better node is found, a local maxima is reached\n",
    "        if minHeurNode == current:\n",
    "            print('Local Maxima at Node', current, 'is Found!')\n",
    "            break\n",
    "        current=minHeurNode\n"
   ]
  },
  {
   "cell_type": "markdown",
   "metadata": {},
   "source": [
    "Steepest-Ascent Hill Climbing"
   ]
  },
  {
   "cell_type": "code",
   "execution_count": 5,
   "metadata": {},
   "outputs": [],
   "source": [
    "def HCS_steepest_ascent(start, goal):\n",
    "    print(\"\\n*** Steepest-Ascent Hill Climbing ***\")\n",
    "    current = start\n",
    "    print('Traversing:')\n",
    "    while True:\n",
    "        print(current)\n",
    "        if current == goal:  # Check if the goal node is reached\n",
    "            print('Goal Node Found!')\n",
    "            break\n",
    "\n",
    "        # Find the neighbor with the lowest heuristic value\n",
    "        neighbors = graph[current]\n",
    "        best_neighbor = min(neighbors, key=lambda x: heuristic[x], default=current)\n",
    "\n",
    "        # If no better neighbor is found, a local maxima is reached\n",
    "        if heuristic[best_neighbor] >= heuristic[current]:\n",
    "            print('Local Maxima at Node', current, 'is Found!')\n",
    "            break\n",
    "\n",
    "        # Move to the best neighbor\n",
    "        current = best_neighbor"
   ]
  },
  {
   "cell_type": "markdown",
   "metadata": {},
   "source": [
    "Random-Restart Hill Climbing"
   ]
  },
  {
   "cell_type": "code",
   "execution_count": 2,
   "metadata": {},
   "outputs": [],
   "source": [
    "import random\n",
    "def HCS_random_restart(start, goal, max_restarts=3):\n",
    "    print(\"\\n*** Random-Restart Hill Climbing ***\")\n",
    "    for restart in range(max_restarts):\n",
    "        print(f\"\\nRestart {restart + 1}:\")\n",
    "        current = random.choice(list(graph.keys()))  # Random initial node\n",
    "        print(f\"Starting from Random Node: {current}\")\n",
    "        \n",
    "        while True:\n",
    "            print(current)\n",
    "            if current == goal:  # Check if the goal node is reached\n",
    "                print('Goal Node Found!')\n",
    "                return  # Exit if the goal is found\n",
    "\n",
    "            # Find the neighbor with the lowest heuristic value\n",
    "            neighbors = graph[current]\n",
    "            best_neighbor = min(neighbors, key=lambda x: heuristic[x], default=current)\n",
    "\n",
    "            # If no better neighbor is found, a local maxima is reached\n",
    "            if heuristic[best_neighbor] >= heuristic[current]:\n",
    "                print('Local Maxima at Node', current, 'is Found!')\n",
    "                break\n",
    "\n",
    "            # Move to the best neighbor\n",
    "            current = best_neighbor\n",
    "    print(\"Max restarts reached. Goal not found.\")"
   ]
  },
  {
   "cell_type": "code",
   "execution_count": 10,
   "metadata": {},
   "outputs": [
    {
     "name": "stdout",
     "output_type": "stream",
     "text": [
      "Traversal: \n",
      "A\n",
      "B\n",
      "D\n",
      "F\n",
      "Goal Node Found:  F\n",
      "\n",
      "*** Steepest-Ascent Hill Climbing ***\n",
      "Traversing:\n",
      "A\n",
      "B\n",
      "D\n",
      "F\n",
      "Goal Node Found!\n",
      "\n",
      "*** Random-Restart Hill Climbing ***\n",
      "\n",
      "Restart 1:\n",
      "Starting from Random Node: F\n",
      "F\n",
      "Goal Node Found!\n"
     ]
    }
   ],
   "source": [
    "StartNode = 'A'\n",
    "GoalNode = 'F'\n",
    "HCS_Simple(StartNode, GoalNode)\n",
    "HCS_steepest_ascent(StartNode, GoalNode)\n",
    "HCS_random_restart(StartNode, GoalNode, max_restarts=3)"
   ]
  },
  {
   "cell_type": "code",
   "execution_count": null,
   "metadata": {},
   "outputs": [],
   "source": []
  }
 ],
 "metadata": {
  "kernelspec": {
   "display_name": "Python 3",
   "language": "python",
   "name": "python3"
  },
  "language_info": {
   "codemirror_mode": {
    "name": "ipython",
    "version": 3
   },
   "file_extension": ".py",
   "mimetype": "text/x-python",
   "name": "python",
   "nbconvert_exporter": "python",
   "pygments_lexer": "ipython3",
   "version": "3.12.0"
  },
  "orig_nbformat": 4
 },
 "nbformat": 4,
 "nbformat_minor": 2
}
