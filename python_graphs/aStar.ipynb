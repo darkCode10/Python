{
 "cells": [
  {
   "cell_type": "code",
   "execution_count": 3,
   "metadata": {},
   "outputs": [
    {
     "name": "stdout",
     "output_type": "stream",
     "text": [
      "A* Path: ['A', 'C', 'E', 'H', 'G'] with cost: 41\n"
     ]
    }
   ],
   "source": [
    "import heapq\n",
    "\n",
    "graph = {\n",
    "    'A': {'B': 11, 'C': 14,'D':7},\n",
    "    'B': {'E': 15},\n",
    "    'C': {'E': 8, 'F': 10},\n",
    "    'D': {'F':25},\n",
    "    'E': {'H':9},\n",
    "    'F': {'G':25},\n",
    "    'G': {},\n",
    "    'H': {'G':10}\n",
    "}\n",
    "\n",
    "heuristic = {\n",
    "    'A': 40,\n",
    "    'B': 32,\n",
    "    'C': 25,\n",
    "    'D': 35,\n",
    "    'E': 19,\n",
    "    'F': 17,\n",
    "    'G': 0,\n",
    "    'H': 10\n",
    "}\n",
    "\n",
    "def a_star(graph,start,goal):\n",
    "    path=[]\n",
    "    cost=0\n",
    "    visited=set()\n",
    "    priority_queue=[(heuristic[start],cost,start,path)]\n",
    "\n",
    "    while priority_queue:\n",
    "        estCost,actCost,current,path=heapq.heappop(priority_queue)\n",
    "        path=path+[current]\n",
    "\n",
    "        if current==goal:\n",
    "            return actCost,path\n",
    "        if current not in visited:\n",
    "            visited.add(current)\n",
    "            for neighbor,pathCost in graph.get(current,{}).items():\n",
    "                if neighbor not in visited:\n",
    "                    newActCost=pathCost+actCost\n",
    "                    estCost=newActCost+heuristic[neighbor]\n",
    "                    heapq.heappush(priority_queue,(estCost,newActCost,neighbor,path))\n",
    "    return float('inf'),None\n",
    "startNode = 'A'\n",
    "goalNode = 'G'\n",
    "\n",
    "a_star_cost, a_star_path = a_star(graph, startNode, goalNode)\n",
    "if a_star_path:\n",
    "    print(f\"A* Path: {a_star_path} with cost: {a_star_cost}\")\n",
    "else:\n",
    "    print(\"No path found.\")"
   ]
  },
  {
   "cell_type": "code",
   "execution_count": null,
   "metadata": {},
   "outputs": [],
   "source": []
  }
 ],
 "metadata": {
  "kernelspec": {
   "display_name": "Python 3",
   "language": "python",
   "name": "python3"
  },
  "language_info": {
   "codemirror_mode": {
    "name": "ipython",
    "version": 3
   },
   "file_extension": ".py",
   "mimetype": "text/x-python",
   "name": "python",
   "nbconvert_exporter": "python",
   "pygments_lexer": "ipython3",
   "version": "3.12.0"
  },
  "orig_nbformat": 4
 },
 "nbformat": 4,
 "nbformat_minor": 2
}
