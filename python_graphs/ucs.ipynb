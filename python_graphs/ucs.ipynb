{
 "cells": [
  {
   "cell_type": "markdown",
   "metadata": {},
   "source": [
    "UCS with single goal\n"
   ]
  },
  {
   "cell_type": "code",
   "execution_count": 2,
   "metadata": {},
   "outputs": [
    {
     "name": "stdout",
     "output_type": "stream",
     "text": [
      "UCS Path: ['A', 'D', 'F', 'G'] | UCS Cost: 8\n"
     ]
    }
   ],
   "source": [
    "import heapq\n",
    "graph = {\n",
    "    'A': {'B': 5, 'D': 3},\n",
    "    'B': {'C':1},\n",
    "    'C': {'E': 6, 'G': 8},\n",
    "    'D': {'E':2,'F':2},\n",
    "    'E': {},\n",
    "    'F': {'G':3},\n",
    "    'G': {'E':4}\n",
    "}\n",
    "\n",
    "def ucs(graph,start,goal):\n",
    "    cost=0\n",
    "    path=[]\n",
    "    priority_queue=[(cost,start,path)]\n",
    "    visited=set()\n",
    "\n",
    "    while priority_queue:\n",
    "        cost,current,path=heapq.heappop(priority_queue)\n",
    "        path=path+[current]\n",
    "\n",
    "        if current==goal:\n",
    "            return cost,path\n",
    "        \n",
    "        if current not in visited:\n",
    "            visited.add(current)\n",
    "            for neighbor,pathCost in graph.get(current,{}).items():\n",
    "                if neighbor not in visited:\n",
    "                    heapq.heappush(priority_queue,(cost+pathCost,neighbor,path))\n",
    "    return float('inf'),None\n",
    "\n",
    "startNode='A'\n",
    "goalNode='G'\n",
    "\n",
    "ucsCost,ucsPath=ucs(graph,startNode,goalNode)\n",
    "print(f\"UCS Path: {ucsPath} | UCS Cost: {ucsCost}\")"
   ]
  },
  {
   "cell_type": "markdown",
   "metadata": {},
   "source": [
    "UCS with multiple goals\n"
   ]
  },
  {
   "cell_type": "code",
   "execution_count": 4,
   "metadata": {},
   "outputs": [
    {
     "name": "stdout",
     "output_type": "stream",
     "text": [
      "UCS Path For 'E': ['A', 'B', 'E'] | UCS Cost: 6\n",
      "UCS Path For 'G': ['A', 'C', 'G'] | UCS Cost: 8\n"
     ]
    }
   ],
   "source": [
    "graph = {\n",
    "    'A': {'B': 1, 'C': 2},\n",
    "    'B': {'D': 4, 'E': 5},\n",
    "    'C': {'F': 3, 'G': 6},\n",
    "    'D': {},\n",
    "    'E': {},\n",
    "    'F': {},\n",
    "    'G': {}\n",
    "}\n",
    "\n",
    "def ucs_multiple_goals(graph,start,goals):\n",
    "    cost=0\n",
    "    path=[]\n",
    "    priority_queue=[(cost,start,path)]\n",
    "    visited=set()\n",
    "    results={}\n",
    "\n",
    "    while priority_queue:\n",
    "        cost,current,path=heapq.heappop(priority_queue)\n",
    "        path=path+[current]\n",
    "        if current in goals:\n",
    "            results[current]=(cost,path)\n",
    "            goals.remove(current)\n",
    "            \n",
    "            if not goals:\n",
    "                return results\n",
    "        if current not in visited:\n",
    "            visited.add(current)\n",
    "            for neighbor,pathCost in graph.get(current,{}).items():\n",
    "                if neighbor not in visited:     \n",
    "                    heapq.heappush(priority_queue,(cost+pathCost,neighbor,path))\n",
    "    \n",
    "    if results:\n",
    "        return results\n",
    "    else:\n",
    "        return None\n",
    "    \n",
    "\n",
    "startNode='A'\n",
    "goalNodes=['E','G']\n",
    "\n",
    "results=ucs_multiple_goals(graph,startNode,goalNodes)\n",
    "\n",
    "if results:\n",
    "    for goal, (cost,path) in results.items():\n",
    "        print(f\"UCS Path For '{goal}': {path} | UCS Cost: {cost}\")               \n"
   ]
  },
  {
   "cell_type": "code",
   "execution_count": null,
   "metadata": {},
   "outputs": [],
   "source": []
  }
 ],
 "metadata": {
  "kernelspec": {
   "display_name": "Python 3",
   "language": "python",
   "name": "python3"
  },
  "language_info": {
   "codemirror_mode": {
    "name": "ipython",
    "version": 3
   },
   "file_extension": ".py",
   "mimetype": "text/x-python",
   "name": "python",
   "nbconvert_exporter": "python",
   "pygments_lexer": "ipython3",
   "version": "3.12.0"
  },
  "orig_nbformat": 4
 },
 "nbformat": 4,
 "nbformat_minor": 2
}
