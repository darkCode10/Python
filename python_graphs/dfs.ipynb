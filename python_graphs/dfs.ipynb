{
 "cells": [
  {
   "cell_type": "markdown",
   "metadata": {},
   "source": [
    "DFS with cost"
   ]
  },
  {
   "cell_type": "code",
   "execution_count": 1,
   "metadata": {},
   "outputs": [
    {
     "name": "stdout",
     "output_type": "stream",
     "text": [
      "DFS Path: ['A', 'B', 'D', 'E', 'C', 'F', 'G'] | DFS Cost: 8\n"
     ]
    }
   ],
   "source": [
    "graph = {\n",
    "    'A': {'B': 1, 'C': 2},\n",
    "    'B': {'D': 4, 'E': 5},\n",
    "    'C': {'F': 3, 'G': 6},\n",
    "    'D': {},\n",
    "    'E': {},\n",
    "    'F': {},\n",
    "    'G': {}\n",
    "}\n",
    "\n",
    "def dfs(graph,start):\n",
    "    cost=0\n",
    "    stack=[(start,cost)]\n",
    "    path=[]\n",
    "    visited=set()\n",
    "    \n",
    "    while stack:\n",
    "        current,cost=stack.pop()\n",
    "        if current not in visited:\n",
    "            visited.add(current)\n",
    "            path=path+[current]\n",
    "\n",
    "            for neighbor, path_cost in reversed(graph.get(current,{}).items()):\n",
    "                stack.append((neighbor,cost+path_cost))\n",
    "    return path,cost\n",
    "\n",
    "##Body\n",
    "startNode='A'\n",
    "dfsPath,dfsCost=dfs(graph,startNode)\n",
    "print(f\"DFS Path: {dfsPath} | DFS Cost: {dfsCost}\")"
   ]
  },
  {
   "cell_type": "code",
   "execution_count": null,
   "metadata": {},
   "outputs": [],
   "source": []
  }
 ],
 "metadata": {
  "kernelspec": {
   "display_name": "Python 3",
   "language": "python",
   "name": "python3"
  },
  "language_info": {
   "codemirror_mode": {
    "name": "ipython",
    "version": 3
   },
   "file_extension": ".py",
   "mimetype": "text/x-python",
   "name": "python",
   "nbconvert_exporter": "python",
   "pygments_lexer": "ipython3",
   "version": "3.12.0"
  },
  "orig_nbformat": 4
 },
 "nbformat": 4,
 "nbformat_minor": 2
}
