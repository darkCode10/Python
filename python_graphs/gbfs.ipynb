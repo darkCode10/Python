{
 "cells": [
  {
   "cell_type": "markdown",
   "metadata": {},
   "source": [
    "Greedy BFS "
   ]
  },
  {
   "cell_type": "code",
   "execution_count": 2,
   "metadata": {},
   "outputs": [
    {
     "name": "stdout",
     "output_type": "stream",
     "text": [
      "GBFS Path: ['A', 'H', 'G', 'D', 'E']\n"
     ]
    }
   ],
   "source": [
    "import heapq\n",
    "\n",
    "graph = {\n",
    "    'A': {'B': 3, 'H': 4},\n",
    "    'B': {'C': 4, 'H': 5},\n",
    "    'C': {'B': 4, 'G': 3,'D':8},\n",
    "    'D': {'C':8,'G':8,'F':3,'E':2},\n",
    "    'E': {},\n",
    "    'F': {'D':3,'G':4},\n",
    "    'G': {'C':3,'D':8,'F':4,'H':2},\n",
    "    'H': {'A':4,'B':5,'G':2}\n",
    "}\n",
    "\n",
    "heuristic = {\n",
    "    'A': 15,\n",
    "    'B': 14,\n",
    "    'C': 10,\n",
    "    'D': 2,\n",
    "    'E': 0,\n",
    "    'F': 5,\n",
    "    'G': 9,\n",
    "    'H': 11\n",
    "}\n",
    "\n",
    "def greedy_bfs(graph,start,goal):\n",
    "    path=[]\n",
    "    visited=set()\n",
    "    priority_queue=[(heuristic[start],start,path)]\n",
    "\n",
    "    while priority_queue:\n",
    "        h,current,path=heapq.heappop(priority_queue)\n",
    "        path=path+[current]\n",
    "\n",
    "        if current==goal:\n",
    "            return path\n",
    "        if current not in visited:\n",
    "            visited.add(current)\n",
    "            for neighbor,pathCost in graph.get(current,{}).items():\n",
    "                if neighbor not in visited:\n",
    "                    heapq.heappush(priority_queue,(heuristic[neighbor],neighbor,path))\n",
    "    return None\n",
    "\n",
    "startNode = 'A'\n",
    "goalNode = 'E'\n",
    "\n",
    "gbfs_path = greedy_bfs(graph, startNode, goalNode)\n",
    "if gbfs_path:\n",
    "    print(f\"GBFS Path: {gbfs_path}\")\n",
    "else:\n",
    "    print(\"No path found.\")\n"
   ]
  },
  {
   "cell_type": "code",
   "execution_count": null,
   "metadata": {},
   "outputs": [],
   "source": []
  }
 ],
 "metadata": {
  "kernelspec": {
   "display_name": "Python 3",
   "language": "python",
   "name": "python3"
  },
  "language_info": {
   "codemirror_mode": {
    "name": "ipython",
    "version": 3
   },
   "file_extension": ".py",
   "mimetype": "text/x-python",
   "name": "python",
   "nbconvert_exporter": "python",
   "pygments_lexer": "ipython3",
   "version": "3.12.0"
  },
  "orig_nbformat": 4
 },
 "nbformat": 4,
 "nbformat_minor": 2
}
