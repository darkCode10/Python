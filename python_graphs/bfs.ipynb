{
 "cells": [
  {
   "cell_type": "markdown",
   "metadata": {},
   "source": [
    "BFS with cost"
   ]
  },
  {
   "cell_type": "code",
   "execution_count": 3,
   "metadata": {},
   "outputs": [
    {
     "name": "stdout",
     "output_type": "stream",
     "text": [
      "BFS Path: ['A', 'B', 'C', 'D', 'E', 'F', 'G'] | BFS Cost: 8\n"
     ]
    }
   ],
   "source": [
    "graph={\n",
    "    'A':{'B':1,'C':2},\n",
    "    'B':{'D':4,'E':5},\n",
    "    'C':{'F':3,'G':6},\n",
    "    'D':{},\n",
    "    'E':{},\n",
    "    'F':{},\n",
    "    'G':{}\n",
    "}\n",
    "'''\n",
    "graph={\n",
    "    'Y':{'A':1,'B':2},\n",
    "    'A':{'C':4,'D':2},\n",
    "    'B':{'I':7,'J':3},\n",
    "    'C':{'E':5,'F':3},\n",
    "    'D':{'G':8},\n",
    "    'E':{},\n",
    "    'F':{},\n",
    "    'G':{},\n",
    "    'H':{},\n",
    "    'I':{'H':6},\n",
    "    'J':{}\n",
    "}'''\n",
    "def bfs(graph,start,goal):\n",
    "    cost=0\n",
    "    queue=([(start,cost)])\n",
    "    visited=set()\n",
    "    path=[]\n",
    "\n",
    "    while queue:\n",
    "        current,cost=queue.pop(0)\n",
    "        \n",
    "        if current not in visited:\n",
    "            visited.add(current)\n",
    "            path=path+[current]\n",
    "            if current==goal:\n",
    "                return path,cost\n",
    "            for neighbor,path_cost in graph.get(current,{}).items():\n",
    "                queue.append((neighbor,cost+path_cost))\n",
    "\n",
    "##Body\n",
    "startNode='A'\n",
    "bfsPath,bfsCost=bfs(graph,startNode,'G')\n",
    "print(f\"BFS Path: {bfsPath} | BFS Cost: {bfsCost}\")\n"
   ]
  },
  {
   "cell_type": "code",
   "execution_count": null,
   "metadata": {},
   "outputs": [],
   "source": []
  }
 ],
 "metadata": {
  "kernelspec": {
   "display_name": "Python 3",
   "language": "python",
   "name": "python3"
  },
  "language_info": {
   "codemirror_mode": {
    "name": "ipython",
    "version": 3
   },
   "file_extension": ".py",
   "mimetype": "text/x-python",
   "name": "python",
   "nbconvert_exporter": "python",
   "pygments_lexer": "ipython3",
   "version": "3.12.0"
  },
  "orig_nbformat": 4
 },
 "nbformat": 4,
 "nbformat_minor": 2
}
