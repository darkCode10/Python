{
 "cells": [
  {
   "cell_type": "code",
   "execution_count": 1,
   "metadata": {},
   "outputs": [
    {
     "name": "stdout",
     "output_type": "stream",
     "text": [
      "<__main__.Dog object at 0x0000023198341A90>\n",
      "Husky\n",
      "3\n",
      "<__main__.Dog object at 0x0000023198343D40>\n",
      "Bruno\n",
      "4\n"
     ]
    }
   ],
   "source": [
    "class Dog:\n",
    "    ##Constructor\n",
    "    def __init__(self,name,age):\n",
    "        self.name=name\n",
    "        self.age=age\n",
    "##Objects\n",
    "dog1=Dog(\"Husky\",3)\n",
    "dog2=Dog(\"Bruno\",4)\n",
    "print(dog1)\n",
    "print(dog1.name)\n",
    "print(dog1.age)\n",
    "print(dog2)\n",
    "print(dog2.name)\n",
    "print(dog2.age)"
   ]
  },
  {
   "cell_type": "code",
   "execution_count": 2,
   "metadata": {},
   "outputs": [
    {
     "name": "stdout",
     "output_type": "stream",
     "text": [
      "Husky says woof\n",
      "Bruno says woof\n"
     ]
    }
   ],
   "source": [
    "##A class with instance method \n",
    "class Dog:\n",
    "    def __init__(self,name,age):\n",
    "        self.name=name\n",
    "        self.age=age\n",
    "    def bark(self):\n",
    "        print(f\"{self.name} says woof\")\n",
    "dog1=Dog(\"Husky\",3)\n",
    "dog2=Dog(\"Bruno\",4)\n",
    "dog1.bark()\n",
    "dog2.bark()"
   ]
  },
  {
   "cell_type": "code",
   "execution_count": 8,
   "metadata": {},
   "outputs": [
    {
     "name": "stdout",
     "output_type": "stream",
     "text": [
      "40000\n",
      "21000 is deposited successfully.\n",
      "New balance is: 61000\n",
      "17000 is deposited successfully.\n",
      "New balance is: 78000\n",
      "15000 is withdrawal sucessfully.\n",
      "New balance is 63000\n",
      "Insufficient Funds.\n",
      "Your Balance is: 63000\n"
     ]
    }
   ],
   "source": [
    "##Example\n",
    "##Modeling A Bank Account\n",
    "class BankAccount:\n",
    "    def __init__(self,name,balance=0):\n",
    "        self.name=name\n",
    "        self.balance=balance\n",
    "    def deposit(self,amount):\n",
    "        self.balance+=amount\n",
    "        print(f\"{amount} is deposited successfully.\\nNew balance is: {self.balance}\")\n",
    "    def withdraw(self,amount):\n",
    "        if(amount>self.balance):\n",
    "            print(f\"Insufficient Funds.\\nYour Balance is: {self.balance}\")\n",
    "        else:\n",
    "            self.balance-=amount\n",
    "            print(f\"{amount} is withdrawal sucessfully.\\nNew balance is {self.balance}\")\n",
    "    def getBalance(self):\n",
    "        return self.balance\n",
    "account=BankAccount(\"Ahsaan\",40000)\n",
    "print(account.getBalance())\n",
    "account.deposit(21000)\n",
    "account.deposit(17000)\n",
    "account.withdraw(15000)\n",
    "account.withdraw(65000)"
   ]
  },
  {
   "cell_type": "code",
   "execution_count": null,
   "metadata": {},
   "outputs": [],
   "source": []
  }
 ],
 "metadata": {
  "kernelspec": {
   "display_name": "Python 3",
   "language": "python",
   "name": "python3"
  },
  "language_info": {
   "codemirror_mode": {
    "name": "ipython",
    "version": 3
   },
   "file_extension": ".py",
   "mimetype": "text/x-python",
   "name": "python",
   "nbconvert_exporter": "python",
   "pygments_lexer": "ipython3",
   "version": "3.12.0"
  },
  "orig_nbformat": 4
 },
 "nbformat": 4,
 "nbformat_minor": 2
}
