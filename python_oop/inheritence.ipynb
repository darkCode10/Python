{
 "cells": [
  {
   "cell_type": "code",
   "execution_count": 1,
   "metadata": {},
   "outputs": [
    {
     "name": "stdout",
     "output_type": "stream",
     "text": [
      "The person will drive Petrol car\n"
     ]
    }
   ],
   "source": [
    "##Inheritence\n",
    "##Parent Class\n",
    "class Car:\n",
    "    def __init__(self,windows,doors,engineType):\n",
    "        self.windows=windows\n",
    "        self.doors=doors\n",
    "        self.engineType=engineType\n",
    "    def drive(self):\n",
    "        print(f\"The person will drive {self.engineType} car\")\n",
    "\n",
    "car1=Car(4,4,\"Petrol\")\n",
    "car1.drive()\n"
   ]
  },
  {
   "cell_type": "code",
   "execution_count": 10,
   "metadata": {},
   "outputs": [
    {
     "name": "stdout",
     "output_type": "stream",
     "text": [
      "Tesla supports self driving: True\n",
      "The person will drive Electric car\n"
     ]
    }
   ],
   "source": [
    "##Child Class\n",
    "class Tesla(Car):\n",
    "    def __init__(self,windows,doors,engineType,is_selfDriving):\n",
    "        super().__init__(windows,doors,engineType)\n",
    "        self.is_selfDriving=is_selfDriving\n",
    "    def selfDrive(self):\n",
    "        print(f\"Tesla supports self driving: {self.is_selfDriving}\")\n",
    "tesla1=Tesla(4,4,\"Electric\",True)\n",
    "tesla1.selfDrive()\n",
    "tesla1.drive()"
   ]
  },
  {
   "cell_type": "code",
   "execution_count": 13,
   "metadata": {},
   "outputs": [
    {
     "name": "stdout",
     "output_type": "stream",
     "text": [
      "Dog Name:Bruno\n",
      "Owner Name:Haris Sheikh\n",
      "The Bruno say WOOF\n"
     ]
    }
   ],
   "source": [
    "##Multiple Inheritence\n",
    "##Base Class 1\n",
    "class Animal:\n",
    "    def __init__(self,name):\n",
    "        self.name=name\n",
    "    def speak(self):\n",
    "        print(\"Subclass must implement this method\")\n",
    "\n",
    "##Base Class 2\n",
    "class Pet:\n",
    "    def __init__(self,owner):\n",
    "        self.owner=owner\n",
    "\n",
    "##Derived Class\n",
    "class Dog(Animal,Pet):\n",
    "    def __init__(self,name,owner):\n",
    "        Animal.__init__(self,name)\n",
    "        Pet.__init__(self,owner)\n",
    "    def speak(self):\n",
    "        return f\"The {self.name} say WOOF\"\n",
    "\n",
    "##Create an object\n",
    "dog1=Dog(\"Bruno\",\"Haris Sheikh\")\n",
    "print(f\"Dog Name:{dog1.name}\\nOwner Name:{dog1.owner}\")\n",
    "print(dog1.speak())\n",
    "\n"
   ]
  },
  {
   "cell_type": "code",
   "execution_count": null,
   "metadata": {},
   "outputs": [],
   "source": []
  }
 ],
 "metadata": {
  "kernelspec": {
   "display_name": "Python 3",
   "language": "python",
   "name": "python3"
  },
  "language_info": {
   "codemirror_mode": {
    "name": "ipython",
    "version": 3
   },
   "file_extension": ".py",
   "mimetype": "text/x-python",
   "name": "python",
   "nbconvert_exporter": "python",
   "pygments_lexer": "ipython3",
   "version": "3.12.0"
  },
  "orig_nbformat": 4
 },
 "nbformat": 4,
 "nbformat_minor": 2
}
