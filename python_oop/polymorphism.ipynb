{
 "cells": [
  {
   "cell_type": "markdown",
   "metadata": {},
   "source": [
    "Function OverRiding"
   ]
  },
  {
   "cell_type": "code",
   "execution_count": 2,
   "metadata": {},
   "outputs": [
    {
     "name": "stdout",
     "output_type": "stream",
     "text": [
      "WOOF!\n",
      "MEAOW!\n",
      "WOOF!\n",
      "MEAOW!\n"
     ]
    }
   ],
   "source": [
    "##Base Class \n",
    "class Animal:\n",
    "    def speak(self):\n",
    "        return \"Sound of animal\"\n",
    "\n",
    "##Derived Class 1\n",
    "class Dog(Animal):\n",
    "    def speak(self):\n",
    "        return \"WOOF!\"\n",
    "\n",
    "##Derived Class 2\n",
    "class Cat(Animal):\n",
    "    def speak(self):\n",
    "        return \"MEAOW!\"\n",
    "    \n",
    "##Function that demonstrates polymorphism \n",
    "def animal_speak(animal):\n",
    "    print(animal.speak())\n",
    "\n",
    "dog=Dog()\n",
    "cat=Cat()\n",
    "print(dog.speak())\n",
    "print(cat.speak())\n",
    "animal_speak(dog)\n",
    "animal_speak(cat)"
   ]
  },
  {
   "cell_type": "markdown",
   "metadata": {},
   "source": [
    "Polymorphism With Function And Attribute"
   ]
  },
  {
   "cell_type": "code",
   "execution_count": 3,
   "metadata": {},
   "outputs": [
    {
     "name": "stdout",
     "output_type": "stream",
     "text": [
      "The area is 28.274333882308138\n",
      "The area is 20\n"
     ]
    }
   ],
   "source": [
    "from math import pi\n",
    "##Base Class\n",
    "class Shape:\n",
    "    def area(self):\n",
    "        return \"Area of the figure\"\n",
    "\n",
    "##Derived Class 1\n",
    "class Rectangle(Shape):\n",
    "    def __init__(self,width,height):\n",
    "        self.width=width\n",
    "        self.height=height\n",
    "    def area(self):\n",
    "        return self.width*self.height\n",
    "    \n",
    "##Derived Class 2\n",
    "class Circle(Shape):\n",
    "    def __init__(self,radius):\n",
    "        self.radius=radius\n",
    "    def area(self):\n",
    "        return pi*(self.radius**2)\n",
    "\n",
    "##Function that demonstrates polymorphism\n",
    "def find_area(shape):\n",
    "    print(f\"The area is {shape.area()}\")\n",
    "\n",
    "##Create object\n",
    "circle=Circle(3)\n",
    "rectangle=Rectangle(4,5)\n",
    "find_area(circle)\n",
    "find_area(rectangle)"
   ]
  },
  {
   "cell_type": "markdown",
   "metadata": {},
   "source": [
    "Polymorphism with Abstract Classes"
   ]
  },
  {
   "cell_type": "code",
   "execution_count": 4,
   "metadata": {},
   "outputs": [
    {
     "name": "stdout",
     "output_type": "stream",
     "text": [
      "Bike engine is starting\n",
      "Car engine is starting\n"
     ]
    }
   ],
   "source": [
    "from abc import ABC,abstractclassmethod\n",
    "\n",
    "##Base Class\n",
    "class Vehicle(ABC):\n",
    "    @abstractclassmethod\n",
    "    def startEngine(self):\n",
    "        pass\n",
    "\n",
    "##Derived Class 1\n",
    "class Car(Vehicle):\n",
    "    def startEngine(self):\n",
    "        return \"Car engine is starting\"\n",
    "\n",
    "##Derived Class 2\n",
    "class Bike(Vehicle):\n",
    "    def startEngine(self):\n",
    "        return \"Bike engine is starting\"\n",
    "\n",
    "##Function\n",
    "def startVehicle(vehicle):\n",
    "    print(vehicle.startEngine())\n",
    "\n",
    "##Create object\n",
    "bike=Bike()\n",
    "car=Car()\n",
    "\n",
    "startVehicle(bike)\n",
    "startVehicle(car)"
   ]
  },
  {
   "cell_type": "code",
   "execution_count": null,
   "metadata": {},
   "outputs": [],
   "source": []
  }
 ],
 "metadata": {
  "kernelspec": {
   "display_name": "Python 3",
   "language": "python",
   "name": "python3"
  },
  "language_info": {
   "codemirror_mode": {
    "name": "ipython",
    "version": 3
   },
   "file_extension": ".py",
   "mimetype": "text/x-python",
   "name": "python",
   "nbconvert_exporter": "python",
   "pygments_lexer": "ipython3",
   "version": "3.12.0"
  },
  "orig_nbformat": 4
 },
 "nbformat": 4,
 "nbformat_minor": 2
}
