{
 "cells": [
  {
   "cell_type": "markdown",
   "metadata": {},
   "source": [
    "Encapsulation\n"
   ]
  },
  {
   "cell_type": "code",
   "execution_count": 2,
   "metadata": {},
   "outputs": [
    {
     "name": "stdout",
     "output_type": "stream",
     "text": [
      "Male\n"
     ]
    },
    {
     "ename": "AttributeError",
     "evalue": "'Person' object has no attribute '__name'",
     "output_type": "error",
     "traceback": [
      "\u001b[1;31m---------------------------------------------------------------------------\u001b[0m",
      "\u001b[1;31mAttributeError\u001b[0m                            Traceback (most recent call last)",
      "Cell \u001b[1;32mIn[2], line 10\u001b[0m\n\u001b[0;32m      8\u001b[0m person\u001b[39m=\u001b[39mPerson(\u001b[39m\"\u001b[39m\u001b[39mAhsaan\u001b[39m\u001b[39m\"\u001b[39m,\u001b[39m21\u001b[39m,\u001b[39m\"\u001b[39m\u001b[39mMale\u001b[39m\u001b[39m\"\u001b[39m)\n\u001b[0;32m      9\u001b[0m \u001b[39mprint\u001b[39m(person\u001b[39m.\u001b[39mgender)\n\u001b[1;32m---> 10\u001b[0m \u001b[39mprint\u001b[39m(person\u001b[39m.\u001b[39;49m__name)\n",
      "\u001b[1;31mAttributeError\u001b[0m: 'Person' object has no attribute '__name'"
     ]
    }
   ],
   "source": [
    "##Public, Protected, Private Variables\n",
    "##Private\n",
    "class Person:\n",
    "    def __init__(self,name,age,gender):\n",
    "        self.__name=name    ##Private Variable\n",
    "        self.__age=age      ##Private Variable\n",
    "        self.gender=gender  ##Public Variable\n",
    "person=Person(\"Ahsaan\",21,\"Male\")\n",
    "print(person.gender)\n",
    "print(person.__name)    ##Error cant access out of class"
   ]
  },
  {
   "cell_type": "code",
   "execution_count": 5,
   "metadata": {},
   "outputs": [
    {
     "name": "stdout",
     "output_type": "stream",
     "text": [
      "Hashir\n",
      "21\n"
     ]
    }
   ],
   "source": [
    "##Protected (Only access by derived classes)\n",
    "class Person:\n",
    "    def __init__(self,name,age):\n",
    "        self._name=name    ##Protected Variable\n",
    "        self._age=age      ##Protected Variable\n",
    "class Employee(Person):\n",
    "    def __init__(self,name,age):\n",
    "        super().__init__(name,age)\n",
    "emp=Employee(\"Hashir\",21)\n",
    "print(emp._name)\n",
    "print(emp._age)"
   ]
  },
  {
   "cell_type": "code",
   "execution_count": 7,
   "metadata": {},
   "outputs": [
    {
     "name": "stdout",
     "output_type": "stream",
     "text": [
      "Ahsaan\n",
      "21\n",
      "Age can't be negative\n",
      "Muhammad Ahsaan\n",
      "22\n"
     ]
    }
   ],
   "source": [
    "##Encapsulation with getter and setter method\n",
    "class Person:\n",
    "    def __init__(self,name,age):\n",
    "        self.__name=name    ##Private Variable\n",
    "        self.__age=age      ##Private Variable\n",
    "    def get_name(self):\n",
    "        return self.__name\n",
    "    def get_age(self):\n",
    "        return self.__age\n",
    "    def set_name(self,name):\n",
    "        self.__name=name\n",
    "    def set_age(self,age):\n",
    "        if age>0:\n",
    "            self.__age=age\n",
    "        else:\n",
    "            print(\"Age can't be negative\")\n",
    "\n",
    "##Access private variable through getter and setter\n",
    "person=Person(\"Ahsaan\",21)\n",
    "print(person.get_name())\n",
    "print(person.get_age())\n",
    "person.set_age(-4)\n",
    "person.set_age(22)\n",
    "person.set_name(\"Muhammad Ahsaan\")\n",
    "print(person.get_name())\n",
    "print(person.get_age())\n"
   ]
  },
  {
   "cell_type": "code",
   "execution_count": null,
   "metadata": {},
   "outputs": [],
   "source": []
  }
 ],
 "metadata": {
  "kernelspec": {
   "display_name": "Python 3",
   "language": "python",
   "name": "python3"
  },
  "language_info": {
   "codemirror_mode": {
    "name": "ipython",
    "version": 3
   },
   "file_extension": ".py",
   "mimetype": "text/x-python",
   "name": "python",
   "nbconvert_exporter": "python",
   "pygments_lexer": "ipython3",
   "version": "3.12.0"
  },
  "orig_nbformat": 4
 },
 "nbformat": 4,
 "nbformat_minor": 2
}
