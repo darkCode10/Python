{
 "cells": [
  {
   "cell_type": "code",
   "execution_count": 1,
   "metadata": {},
   "outputs": [
    {
     "name": "stdout",
     "output_type": "stream",
     "text": [
      "j'mapple ahsaan\n",
      "je suis homme\n",
      "je suis etudiant de ordinateur\n",
      "\n"
     ]
    }
   ],
   "source": [
    "##Read a whole file\n",
    "with open('example.txt','r') as file:\n",
    "    content=file.read()\n",
    "    print(content)"
   ]
  },
  {
   "cell_type": "code",
   "execution_count": 2,
   "metadata": {},
   "outputs": [
    {
     "name": "stdout",
     "output_type": "stream",
     "text": [
      "j'mapple ahsaan\n",
      "je suis homme\n",
      "je suis etudiant de ordinateur\n"
     ]
    }
   ],
   "source": [
    "##Read a file line by line\n",
    "with open('example.txt','r') as file:\n",
    "    for line in file:\n",
    "        print(line.strip()) ##strip() remove the newline character"
   ]
  },
  {
   "cell_type": "code",
   "execution_count": 3,
   "metadata": {},
   "outputs": [],
   "source": [
    "##Writing a file (overwriting)\n",
    "with open('example.txt','w') as file:\n",
    "    file.write('Hello World\\n')\n",
    "    file.write('This is new line\\n')"
   ]
  },
  {
   "cell_type": "code",
   "execution_count": 4,
   "metadata": {},
   "outputs": [],
   "source": [
    "##Writing a file (without overwriting)\n",
    "with open('example.txt','a') as file:\n",
    "    file.write('Append section is executed')"
   ]
  },
  {
   "cell_type": "code",
   "execution_count": 5,
   "metadata": {},
   "outputs": [],
   "source": [
    "##Writing a list of lines in file\n",
    "lines=['First Line\\n','Second Line\\n','Third Line\\n']\n",
    "with open('example.txt','a') as file:\n",
    "    file.writelines(lines)"
   ]
  },
  {
   "cell_type": "code",
   "execution_count": 6,
   "metadata": {},
   "outputs": [],
   "source": [
    "##Binary Files\n",
    "##Writing binary files\n",
    "data=b'\\x41\\x42\\x43\\x44\\x45'\n",
    "with open('example.bin','wb') as file:\n",
    "    file.write(data)\n"
   ]
  },
  {
   "cell_type": "code",
   "execution_count": 7,
   "metadata": {},
   "outputs": [
    {
     "name": "stdout",
     "output_type": "stream",
     "text": [
      "b'ABCDE'\n"
     ]
    }
   ],
   "source": [
    "##Reading binary files\n",
    "with open('example.bin','rb') as file:\n",
    "    content=file.read()\n",
    "    print(content)"
   ]
  },
  {
   "cell_type": "code",
   "execution_count": 8,
   "metadata": {},
   "outputs": [],
   "source": [
    "##Example: To copy data from source file and paste in destination file\n",
    "with open('example.txt','r') as sourceFile:\n",
    "    content=sourceFile.read()\n",
    "with open('destination.txt','w') as destFile:\n",
    "    destFile.write(content)"
   ]
  },
  {
   "cell_type": "code",
   "execution_count": 9,
   "metadata": {},
   "outputs": [
    {
     "name": "stdout",
     "output_type": "stream",
     "text": [
      "Total Lines:6\n",
      "Total Words:16\n",
      "Total Characters:90\n"
     ]
    }
   ],
   "source": [
    "##Assignment to count lines,words and characters in text file\n",
    "def count_text_file(filePath):\n",
    "    with open(filePath,'r') as file:\n",
    "        lines=file.readlines()\n",
    "        countLines=len(lines)\n",
    "        countWords=sum(len(line.split()) for line in lines) \n",
    "        countChars=sum(len(line) for line in lines)\n",
    "    return countLines,countWords,countChars\n",
    "filePath='example.txt'\n",
    "countLines,countWords,countChars=count_text_file(filePath)\n",
    "print(f'Total Lines:{countLines}\\nTotal Words:{countWords}\\nTotal Characters:{countChars}')\n"
   ]
  },
  {
   "cell_type": "code",
   "execution_count": 11,
   "metadata": {},
   "outputs": [
    {
     "name": "stdout",
     "output_type": "stream",
     "text": [
      "Bonjour\n",
      "C'est ordinateur\n"
     ]
    }
   ],
   "source": [
    "##Writing and Reading at the same time\n",
    "with open('example.txt','w+') as file:\n",
    "    file.write('Bonjour\\n')\n",
    "    file.write('C\\'est ordinateur')\n",
    "\n",
    "    ##Move the file cursor to the begining \n",
    "    file.seek(0)\n",
    "\n",
    "    ##Read the content from the file\n",
    "    content=file.read()\n",
    "    print(content)\n",
    "    "
   ]
  },
  {
   "cell_type": "code",
   "execution_count": null,
   "metadata": {},
   "outputs": [],
   "source": []
  }
 ],
 "metadata": {
  "kernelspec": {
   "display_name": "Python 3",
   "language": "python",
   "name": "python3"
  },
  "language_info": {
   "codemirror_mode": {
    "name": "ipython",
    "version": 3
   },
   "file_extension": ".py",
   "mimetype": "text/x-python",
   "name": "python",
   "nbconvert_exporter": "python",
   "pygments_lexer": "ipython3",
   "version": "3.12.0"
  },
  "orig_nbformat": 4
 },
 "nbformat": 4,
 "nbformat_minor": 2
}
